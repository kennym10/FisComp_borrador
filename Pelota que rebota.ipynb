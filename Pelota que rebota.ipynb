{
 "cells": [
  {
   "cell_type": "markdown",
   "id": "711d9b9f",
   "metadata": {},
   "source": [
    "# Caída libre con rebote\n",
    "\n",
    "Las ecuaciones de movimiento son:\n",
    "\n",
    "$$\n",
    "\\ddot z = -g \\\\\n",
    "\\ddot x = 0 \\\\\n",
    "$$\n",
    "\n",
    "donde $g=9.8 \\; m/s^2$."
   ]
  },
  {
   "cell_type": "code",
   "execution_count": 1,
   "id": "a6b42758",
   "metadata": {},
   "outputs": [],
   "source": [
    "from pylab import *\n",
    "from scipy.integrate import *"
   ]
  },
  {
   "cell_type": "code",
   "execution_count": 111,
   "id": "f82e1d4d",
   "metadata": {},
   "outputs": [],
   "source": [
    "def caida(t,x_dx):\n",
    "    # x_dx = x,z,vx,vz\n",
    "    g = 9.8\n",
    "    dx , dz = x_dx[2] , x_dx[3]\n",
    "    dvx , dvz = 0 , -g\n",
    "    return array([dx,dz,dvx,dvz])\n",
    "\n",
    "def suelo_newton(t0,f,ind_pos=1,ind_d_pos=3,error=1e-4):\n",
    "    while abs(f(t0)[ind_pos]) > error:\n",
    "        t0 = t0 - f(t0)[ind_pos]/f(t0)[ind_d_pos]\n",
    "    return t0"
   ]
  },
  {
   "cell_type": "code",
   "execution_count": 136,
   "id": "9095b3c3",
   "metadata": {},
   "outputs": [
    {
     "data": {
      "text/plain": [
       "0.451754452322883"
      ]
     },
     "execution_count": 136,
     "metadata": {},
     "output_type": "execute_result"
    }
   ],
   "source": [
    "ci = [0,1,0.5,0]\n",
    "tf = 2\n",
    "tray = solve_ivp(caida,(0,tf),ci,dense_output=True,atol=1e-8,rtol=1e-8)\n",
    "t_suelo = suelo_newton(0.1,tray.sol)\n",
    "t_suelo"
   ]
  },
  {
   "cell_type": "code",
   "execution_count": 137,
   "id": "e244963d",
   "metadata": {},
   "outputs": [
    {
     "name": "stdout",
     "output_type": "stream",
     "text": [
      "0.9035107933228147\n",
      "0.9035102966677566\n"
     ]
    },
    {
     "data": {
      "image/png": "[encoded data removed]",
      "text/plain": [
       "<Figure size 432x288 with 1 Axes>"
      ]
     },
     "metadata": {
      "needs_background": "light"
     },
     "output_type": "display_data"
    }
   ],
   "source": [
    "t = linspace(0,t_suelo,15)\n",
    "plot(tray.sol(t)[0],tray.sol(t)[1])\n",
    "#primer rebote\n",
    "ci = tray.sol(t_suelo)\n",
    "ci[3] = -ci[3]\n",
    "tray = solve_ivp(caida,(0,tf),ci,dense_output=True,atol=1e-8,rtol=1e-8)\n",
    "t_suelo = suelo_newton(1.1*t_suelo,tray.sol)\n",
    "print(t_suelo)\n",
    "t = linspace(0,t_suelo,15)\n",
    "plot(tray.sol(t)[0],tray.sol(t)[1])\n",
    "#segundo rebote\n",
    "ci = tray.sol(t_suelo)\n",
    "ci[3] = -ci[3]\n",
    "tray = solve_ivp(caida,(0,tf),ci,dense_output=True,atol=1e-8,rtol=1e-8)\n",
    "t_suelo = suelo_newton(1.1*t_suelo,tray.sol)\n",
    "print(t_suelo)\n",
    "t = linspace(0,t_suelo,15)\n",
    "plot(tray.sol(t)[0],tray.sol(t)[1])\n",
    "\n",
    "ylim([-0.1,1.1])\n",
    "show()"
   ]
  },
  {
   "cell_type": "code",
   "execution_count": null,
   "id": "fbe53dac",
   "metadata": {},
   "outputs": [],
   "source": []
  },
  {
   "cell_type": "code",
   "execution_count": null,
   "id": "3200e7e4",
   "metadata": {},
   "outputs": [],
   "source": []
  }
 ],
 "metadata": {
  "kernelspec": {
   "display_name": "Python 3 (ipykernel)",
   "language": "python",
   "name": "python3"
  },
  "language_info": {
   "codemirror_mode": {
    "name": "ipython",
    "version": 3
   },
   "file_extension": ".py",
   "mimetype": "text/x-python",
   "name": "python",
   "nbconvert_exporter": "python",
   "pygments_lexer": "ipython3",
   "version": "3.9.12"
  }
 },
 "nbformat": 4,
 "nbformat_minor": 5
}
